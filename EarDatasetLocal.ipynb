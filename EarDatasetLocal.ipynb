{
 "cells": [
  {
   "cell_type": "code",
   "execution_count": 11,
   "id": "6609474a",
   "metadata": {},
   "outputs": [],
   "source": [
    "import numpy as np\n",
    "import pandas as pd\n",
    "import matplotlib.pyplot as plt\n",
    "import os, os.path, time"
   ]
  },
  {
   "cell_type": "code",
   "execution_count": 12,
   "id": "713117ce",
   "metadata": {},
   "outputs": [],
   "source": [
    "def createFileList(myDir, format='.jpg'):\n",
    "    fileList = []\n",
    "    for root, dirs, files in os.walk(myDir, topdown=False):\n",
    "        print(root, dirs, files)\n",
    "        for name in files:\n",
    "            if name.endswith(format):\n",
    "                fullName = os.path.join(root, name)\n",
    "                fileList.append(fullName)\n",
    "    return fileList"
   ]
  },
  {
   "cell_type": "code",
   "execution_count": 17,
   "id": "9059190d",
   "metadata": {},
   "outputs": [],
   "source": [
    "fileList = createFileList('~\\OneDrive\\Desktop\\library\\Projects\\Ear Dataset\\masked_images\\Alisson Becker 2')"
   ]
  },
  {
   "cell_type": "code",
   "execution_count": 22,
   "id": "9ec81e18",
   "metadata": {},
   "outputs": [],
   "source": [
    "for fileName in fileList:\n",
    "    print(fileName)"
   ]
  },
  {
   "cell_type": "code",
   "execution_count": 24,
   "id": "703b47f8",
   "metadata": {},
   "outputs": [],
   "source": [
    "import os\n",
    "for root, dirs, files in os.walk(\"~/OneDrive/Desktop/library/Projects/Ear Dataset/masked_images/\", topdown=False):\n",
    "   for name in files:\n",
    "      print(os.path.join(root, name))\n",
    "   for name in dirs:\n",
    "      print(os.path.join(root, name))"
   ]
  },
  {
   "cell_type": "code",
   "execution_count": null,
   "id": "030bd35c",
   "metadata": {},
   "outputs": [],
   "source": []
  }
 ],
 "metadata": {
  "kernelspec": {
   "display_name": "Python 3 (ipykernel)",
   "language": "python",
   "name": "python3"
  },
  "language_info": {
   "codemirror_mode": {
    "name": "ipython",
    "version": 3
   },
   "file_extension": ".py",
   "mimetype": "text/x-python",
   "name": "python",
   "nbconvert_exporter": "python",
   "pygments_lexer": "ipython3",
   "version": "3.9.6"
  }
 },
 "nbformat": 4,
 "nbformat_minor": 5
}
